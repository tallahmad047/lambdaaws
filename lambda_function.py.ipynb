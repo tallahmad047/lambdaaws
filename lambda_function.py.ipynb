{
 "cells": [
  {
   "cell_type": "code",
   "execution_count": 1,
   "id": "8595a100",
   "metadata": {},
   "outputs": [
    {
     "name": "stdout",
     "output_type": "stream",
     "text": [
      "Retrieving notices: ...working... done\n",
      "Collecting package metadata (current_repodata.json): ...working... done\n",
      "Solving environment: ...working... done\n",
      "\n",
      "# All requested packages already installed.\n",
      "\n",
      "\n",
      "Note: you may need to restart the kernel to use updated packages.\n"
     ]
    }
   ],
   "source": [
    "conda install pytz"
   ]
  },
  {
   "cell_type": "code",
   "execution_count": null,
   "id": "e5d6fc07",
   "metadata": {},
   "outputs": [],
   "source": [
    "\n",
    "import boto3\n",
    "import datetime\n",
    "import pytz\n",
    "\n",
    "\n",
    "# Create EC2 client\n",
    "ec2 = boto3.client('ec2',region_name='us-east-1a')\n",
    "\n",
    "# Get all EC2 instances with Name tag 'dpt-web-server'\n",
    "instances = ec2.describe_instances(Filters=[\n",
    "    {'Name': 'tag:Name', 'Values': ['dpt-web-server']}\n",
    "])\n",
    "\n",
    "# Get the instance IDs as a list\n",
    "instance_ids = []\n",
    "for reservation in instances['Reservations']:\n",
    "    for instance in reservation['Instances']:\n",
    "        instance_ids.append(instance['InstanceId'])\n",
    "\n",
    "# Create AMIs for each instance\n",
    "for instance_id in instance_ids:\n",
    "    try:\n",
    "        # Get the Name tag of the instance\n",
    "        name_tag = \"\"\n",
    "        for tag in ec2.describe_tags(Filters=[{'Name': 'resource-id', 'Values': [instance_id]}, {'Name': 'key', 'Values': ['Name']}])['Tags']:\n",
    "            if tag['Key'] == 'Name':\n",
    "                name_tag = tag['Value']\n",
    "        \n",
    "        # Create an AMI for the instance\n",
    "        image_name = name_tag + \"-\" + datetime.datetime.now(pytz.utc).strftime(\"%Y-%m-%d\")\n",
    "        response = ec2.create_image(\n",
    "            Description='AMI pour la sauvegarde hebdomadaire',\n",
    "            InstanceId=instance_id,\n",
    "            Name=image_name,\n",
    "            NoReboot=True,\n",
    "            DryRun=False\n",
    "        )\n",
    "        \n",
    "        # Add tags to the AMI\n",
    "        ami_id = response['ImageId']\n",
    "        ec2.create_tags(Resources=[ami_id], Tags=[{'Key': 'Name', 'Value': name_tag}])\n",
    "        ec2.create_tags(Resources=[ami_id], Tags=[{'Key': 'Description', 'Value': 'AMI pour la sauvegarde hebdomadaire'}])\n",
    "        \n",
    "        print(\"AMI \" + ami_id + \" créée pour l'instance \" + instance_id)\n",
    "    except Exception as e:\n",
    "        print(\"Exception lors de la création de l'AMI pour l'instance \" + instance_id + \" : \" + str(e))\n",
    "\n",
    "# Delete unused AMIs older than 30 days\n",
    "images = ec2.describe_images(Filters=[\n",
    "    {'Name': 'tag:Description', 'Values': ['AMI pour la sauvegarde hebdomadaire']},\n",
    "    {'Name': 'tag:Name', 'Values': ['dpt-web-server*']}\n",
    "])\n",
    "for image in images['Images']:\n",
    "    try:\n",
    "        create_date = image['CreationDate']\n",
    "        image_age = datetime.datetime.now(pytz.utc) - datetime.datetime.strptime(create_date, '%Y-%m-%dT%H:%M:%S.%fZ').replace(tzinfo=pytz.utc)\n",
    "        if image_age.days > 30:\n",
    "            ec2.deregister_image(ImageId=image['ImageId'])\n",
    "            print(\"AMI \" + image['ImageId'] + \" supprimée.\")\n",
    "    except Exception as e:\n",
    "        print(\"Exception lors de la suppression de l'AMI \" + image['ImageId'] + \" : \" + str(e))\n"
   ]
  }
 ],
 "metadata": {
  "kernelspec": {
   "display_name": "Python 3 (ipykernel)",
   "language": "python",
   "name": "python3"
  },
  "language_info": {
   "codemirror_mode": {
    "name": "ipython",
    "version": 3
   },
   "file_extension": ".py",
   "mimetype": "text/x-python",
   "name": "python",
   "nbconvert_exporter": "python",
   "pygments_lexer": "ipython3",
   "version": "3.10.9"
  }
 },
 "nbformat": 4,
 "nbformat_minor": 5
}
